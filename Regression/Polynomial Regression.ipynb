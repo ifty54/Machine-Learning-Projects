{
 "cells": [
  {
   "cell_type": "markdown",
   "id": "344ef440",
   "metadata": {},
   "source": [
    "# Polynomial Regression with Pipeline Concepts"
   ]
  },
  {
   "cell_type": "markdown",
   "id": "eccb9bd5",
   "metadata": {},
   "source": [
    "### Before Getting dive into the Polynomial, we have to investigate if linear regression is suitable here or not!"
   ]
  },
  {
   "cell_type": "code",
   "execution_count": 2,
   "id": "cefd7aeb",
   "metadata": {
    "scrolled": true
   },
   "outputs": [
    {
     "name": "stdout",
     "output_type": "stream",
     "text": [
      "Note: you may need to restart the kernel to use updated packages.Collecting seaborn\n",
      "  Downloading seaborn-0.12.2-py3-none-any.whl (293 kB)\n",
      "     -------------------------------------- 293.3/293.3 kB 1.4 MB/s eta 0:00:00\n",
      "Requirement already satisfied: numpy!=1.24.0,>=1.17 in c:\\users\\user\\appdata\\local\\programs\\python\\python311\\lib\\site-packages (from seaborn) (1.24.3)\n",
      "Requirement already satisfied: pandas>=0.25 in c:\\users\\user\\appdata\\local\\programs\\python\\python311\\lib\\site-packages (from seaborn) (2.1.0)\n",
      "Requirement already satisfied: matplotlib!=3.6.1,>=3.1 in c:\\users\\user\\appdata\\local\\programs\\python\\python311\\lib\\site-packages (from seaborn) (3.7.2)\n",
      "Requirement already satisfied: contourpy>=1.0.1 in c:\\users\\user\\appdata\\local\\programs\\python\\python311\\lib\\site-packages (from matplotlib!=3.6.1,>=3.1->seaborn) (1.1.0)\n",
      "Requirement already satisfied: cycler>=0.10 in c:\\users\\user\\appdata\\local\\programs\\python\\python311\\lib\\site-packages (from matplotlib!=3.6.1,>=3.1->seaborn) (0.11.0)\n",
      "Requirement already satisfied: fonttools>=4.22.0 in c:\\users\\user\\appdata\\local\\programs\\python\\python311\\lib\\site-packages (from matplotlib!=3.6.1,>=3.1->seaborn) (4.42.1)\n",
      "Requirement already satisfied: kiwisolver>=1.0.1 in c:\\users\\user\\appdata\\local\\programs\\python\\python311\\lib\\site-packages (from matplotlib!=3.6.1,>=3.1->seaborn) (1.4.5)\n",
      "Requirement already satisfied: packaging>=20.0 in c:\\users\\user\\appdata\\local\\programs\\python\\python311\\lib\\site-packages (from matplotlib!=3.6.1,>=3.1->seaborn) (23.1)\n",
      "Requirement already satisfied: pillow>=6.2.0 in c:\\users\\user\\appdata\\local\\programs\\python\\python311\\lib\\site-packages (from matplotlib!=3.6.1,>=3.1->seaborn) (10.0.0)\n",
      "Requirement already satisfied: pyparsing<3.1,>=2.3.1 in c:\\users\\user\\appdata\\local\\programs\\python\\python311\\lib\\site-packages (from matplotlib!=3.6.1,>=3.1->seaborn) (3.0.9)\n",
      "Requirement already satisfied: python-dateutil>=2.7 in c:\\users\\user\\appdata\\local\\programs\\python\\python311\\lib\\site-packages (from matplotlib!=3.6.1,>=3.1->seaborn) (2.8.2)\n",
      "Requirement already satisfied: pytz>=2020.1 in c:\\users\\user\\appdata\\local\\programs\\python\\python311\\lib\\site-packages (from pandas>=0.25->seaborn) (2023.3)\n",
      "Requirement already satisfied: tzdata>=2022.1 in c:\\users\\user\\appdata\\local\\programs\\python\\python311\\lib\\site-packages (from pandas>=0.25->seaborn) (2023.3)\n",
      "Requirement already satisfied: six>=1.5 in c:\\users\\user\\appdata\\local\\programs\\python\\python311\\lib\\site-packages (from python-dateutil>=2.7->matplotlib!=3.6.1,>=3.1->seaborn) (1.16.0)\n",
      "Installing collected packages: seaborn\n",
      "Successfully installed seaborn-0.12.2\n",
      "\n"
     ]
    },
    {
     "name": "stderr",
     "output_type": "stream",
     "text": [
      "\n",
      "[notice] A new release of pip available: 22.3.1 -> 23.2.1\n",
      "[notice] To update, run: C:\\Users\\user\\AppData\\Local\\Programs\\Python\\Python311\\python.exe -m pip install --upgrade pip\n"
     ]
    }
   ],
   "source": [
    "pip install seaborn"
   ]
  },
  {
   "cell_type": "code",
   "execution_count": 3,
   "id": "ba6072b8",
   "metadata": {},
   "outputs": [],
   "source": [
    "import pandas as pd\n",
    "import numpy as np\n",
    "import seaborn as sns\n",
    "import matplotlib.pyplot as plt\n",
    "%matplotlib inline"
   ]
  },
  {
   "cell_type": "code",
   "execution_count": 4,
   "id": "9ab20ecb",
   "metadata": {},
   "outputs": [],
   "source": [
    "# Generating Equation\n",
    "X = 6*np.random.rand(100,1) - 3\n",
    "y = 0.5*X**2 + 1.5*X + 5 + np.random.randn(100,1) #last term added as outliers"
   ]
  },
  {
   "cell_type": "code",
   "execution_count": 5,
   "id": "f1bc4ab0",
   "metadata": {},
   "outputs": [
    {
     "data": {
      "text/plain": [
       "Text(0, 0.5, 'Dependent')"
      ]
     },
     "execution_count": 5,
     "metadata": {},
     "output_type": "execute_result"
    },
    {
     "data": {
      "image/png": "[encoded data removed]",
      "text/plain": [
       "<Figure size 640x480 with 1 Axes>"
      ]
     },
     "metadata": {},
     "output_type": "display_data"
    }
   ],
   "source": [
    "plt.scatter(X,y, color='g')\n",
    "plt.xlabel(\"Independent\")\n",
    "plt.ylabel(\"Dependent\")"
   ]
  },
  {
   "cell_type": "markdown",
   "id": "049e4d32",
   "metadata": {},
   "source": [
    "Now, we have to apply linear regression!"
   ]
  },
  {
   "cell_type": "code",
   "execution_count": 6,
   "id": "0367bafe",
   "metadata": {},
   "outputs": [],
   "source": [
    "#Splitting Dataset\n",
    "from sklearn.model_selection import train_test_split\n",
    "X_train, X_test, y_train, y_test = train_test_split(X,y,test_size = 0.2, random_state = 42)"
   ]
  },
  {
   "cell_type": "code",
   "execution_count": 7,
   "id": "a491fb1a",
   "metadata": {},
   "outputs": [],
   "source": [
    "from sklearn.linear_model import LinearRegression\n",
    "first_regression = LinearRegression()"
   ]
  },
  {
   "cell_type": "code",
   "execution_count": 8,
   "id": "a65a331f",
   "metadata": {},
   "outputs": [
    {
     "data": {
      "text/html": [
       "<style>#sk-container-id-1 {color: black;}#sk-container-id-1 pre{padding: 0;}#sk-container-id-1 div.sk-toggleable {background-color: white;}#sk-container-id-1 label.sk-toggleable__label {cursor: pointer;display: block;width: 100%;margin-bottom: 0;padding: 0.3em;box-sizing: border-box;text-align: center;}#sk-container-id-1 label.sk-toggleable__label-arrow:before {content: \"▸\";float: left;margin-right: 0.25em;color: #696969;}#sk-container-id-1 label.sk-toggleable__label-arrow:hover:before {color: black;}#sk-container-id-1 div.sk-estimator:hover label.sk-toggleable__label-arrow:before {color: black;}#sk-container-id-1 div.sk-toggleable__content {max-height: 0;max-width: 0;overflow: hidden;text-align: left;background-color: #f0f8ff;}#sk-container-id-1 div.sk-toggleable__content pre {margin: 0.2em;color: black;border-radius: 0.25em;background-color: #f0f8ff;}#sk-container-id-1 input.sk-toggleable__control:checked~div.sk-toggleable__content {max-height: 200px;max-width: 100%;overflow: auto;}#sk-container-id-1 input.sk-toggleable__control:checked~label.sk-toggleable__label-arrow:before {content: \"▾\";}#sk-container-id-1 div.sk-estimator input.sk-toggleable__control:checked~label.sk-toggleable__label {background-color: #d4ebff;}#sk-container-id-1 div.sk-label input.sk-toggleable__control:checked~label.sk-toggleable__label {background-color: #d4ebff;}#sk-container-id-1 input.sk-hidden--visually {border: 0;clip: rect(1px 1px 1px 1px);clip: rect(1px, 1px, 1px, 1px);height: 1px;margin: -1px;overflow: hidden;padding: 0;position: absolute;width: 1px;}#sk-container-id-1 div.sk-estimator {font-family: monospace;background-color: #f0f8ff;border: 1px dotted black;border-radius: 0.25em;box-sizing: border-box;margin-bottom: 0.5em;}#sk-container-id-1 div.sk-estimator:hover {background-color: #d4ebff;}#sk-container-id-1 div.sk-parallel-item::after {content: \"\";width: 100%;border-bottom: 1px solid gray;flex-grow: 1;}#sk-container-id-1 div.sk-label:hover label.sk-toggleable__label {background-color: #d4ebff;}#sk-container-id-1 div.sk-serial::before {content: \"\";position: absolute;border-left: 1px solid gray;box-sizing: border-box;top: 0;bottom: 0;left: 50%;z-index: 0;}#sk-container-id-1 div.sk-serial {display: flex;flex-direction: column;align-items: center;background-color: white;padding-right: 0.2em;padding-left: 0.2em;position: relative;}#sk-container-id-1 div.sk-item {position: relative;z-index: 1;}#sk-container-id-1 div.sk-parallel {display: flex;align-items: stretch;justify-content: center;background-color: white;position: relative;}#sk-container-id-1 div.sk-item::before, #sk-container-id-1 div.sk-parallel-item::before {content: \"\";position: absolute;border-left: 1px solid gray;box-sizing: border-box;top: 0;bottom: 0;left: 50%;z-index: -1;}#sk-container-id-1 div.sk-parallel-item {display: flex;flex-direction: column;z-index: 1;position: relative;background-color: white;}#sk-container-id-1 div.sk-parallel-item:first-child::after {align-self: flex-end;width: 50%;}#sk-container-id-1 div.sk-parallel-item:last-child::after {align-self: flex-start;width: 50%;}#sk-container-id-1 div.sk-parallel-item:only-child::after {width: 0;}#sk-container-id-1 div.sk-dashed-wrapped {border: 1px dashed gray;margin: 0 0.4em 0.5em 0.4em;box-sizing: border-box;padding-bottom: 0.4em;background-color: white;}#sk-container-id-1 div.sk-label label {font-family: monospace;font-weight: bold;display: inline-block;line-height: 1.2em;}#sk-container-id-1 div.sk-label-container {text-align: center;}#sk-container-id-1 div.sk-container {/* jupyter's `normalize.less` sets `[hidden] { display: none; }` but bootstrap.min.css set `[hidden] { display: none !important; }` so we also need the `!important` here to be able to override the default hidden behavior on the sphinx rendered scikit-learn.org. See: https://github.com/scikit-learn/scikit-learn/issues/21755 */display: inline-block !important;position: relative;}#sk-container-id-1 div.sk-text-repr-fallback {display: none;}</style><div id=\"sk-container-id-1\" class=\"sk-top-container\"><div class=\"sk-text-repr-fallback\"><pre>LinearRegression()</pre><b>In a Jupyter environment, please rerun this cell to show the HTML representation or trust the notebook. <br />On GitHub, the HTML representation is unable to render, please try loading this page with nbviewer.org.</b></div><div class=\"sk-container\" hidden><div class=\"sk-item\"><div class=\"sk-estimator sk-toggleable\"><input class=\"sk-toggleable__control sk-hidden--visually\" id=\"sk-estimator-id-1\" type=\"checkbox\" checked><label for=\"sk-estimator-id-1\" class=\"sk-toggleable__label sk-toggleable__label-arrow\">LinearRegression</label><div class=\"sk-toggleable__content\"><pre>LinearRegression()</pre></div></div></div></div></div>"
      ],
      "text/plain": [
       "LinearRegression()"
      ]
     },
     "execution_count": 8,
     "metadata": {},
     "output_type": "execute_result"
    }
   ],
   "source": [
    "first_regression.fit(X_train, y_train)"
   ]
  },
  {
   "cell_type": "code",
   "execution_count": 9,
   "id": "6255600f",
   "metadata": {},
   "outputs": [
    {
     "data": {
      "text/plain": [
       "0.8417463029364527"
      ]
     },
     "execution_count": 9,
     "metadata": {},
     "output_type": "execute_result"
    }
   ],
   "source": [
    "#Evaluation metrics (R2)\n",
    "from sklearn.metrics import r2_score\n",
    "score = r2_score(y_test, first_regression.predict(X_test))\n",
    "score"
   ]
  },
  {
   "cell_type": "code",
   "execution_count": 10,
   "id": "0bc24084",
   "metadata": {},
   "outputs": [
    {
     "data": {
      "text/plain": [
       "Text(0, 0.5, 'y')"
      ]
     },
     "execution_count": 10,
     "metadata": {},
     "output_type": "execute_result"
    },
    {
     "data": {
      "image/png": "[encoded data removed]",
      "text/plain": [
       "<Figure size 640x480 with 1 Axes>"
      ]
     },
     "metadata": {},
     "output_type": "display_data"
    }
   ],
   "source": [
    "#Time for visualization\n",
    "plt.plot(X_train, first_regression.predict(X_train), color='black')\n",
    "plt.scatter(X_train, y_train)\n",
    "plt.xlabel(\"X\")\n",
    "plt.ylabel(\"y\")"
   ]
  },
  {
   "cell_type": "markdown",
   "id": "ff41d270",
   "metadata": {},
   "source": [
    "Clearly, this is not the best fit line indeed!"
   ]
  },
  {
   "cell_type": "code",
   "execution_count": 11,
   "id": "d8c06cce",
   "metadata": {},
   "outputs": [],
   "source": [
    "from sklearn.preprocessing import PolynomialFeatures\n",
    "poly_reg = PolynomialFeatures(degree = 2, include_bias = True)\n",
    "X_train_poly = poly_reg.fit_transform(X_train)\n",
    "X_test_poly = poly_reg.transform(X_test)"
   ]
  },
  {
   "cell_type": "code",
   "execution_count": 12,
   "id": "8f147c13",
   "metadata": {},
   "outputs": [
    {
     "data": {
      "text/plain": [
       "array([[ 1.00000000e+00, -2.61947561e+00,  6.86165247e+00],\n",
       "       [ 1.00000000e+00, -6.60665508e-01,  4.36478914e-01],\n",
       "       [ 1.00000000e+00, -2.29045498e+00,  5.24618402e+00],\n",
       "       [ 1.00000000e+00,  2.87757593e+00,  8.28044322e+00],\n",
       "       [ 1.00000000e+00,  2.13778908e+00,  4.57014216e+00],\n",
       "       [ 1.00000000e+00, -7.80449840e-01,  6.09101952e-01],\n",
       "       [ 1.00000000e+00,  2.69584973e+00,  7.26760575e+00],\n",
       "       [ 1.00000000e+00,  9.32682403e-01,  8.69896465e-01],\n",
       "       [ 1.00000000e+00,  1.22719957e-01,  1.50601878e-02],\n",
       "       [ 1.00000000e+00,  8.69860254e-01,  7.56656861e-01],\n",
       "       [ 1.00000000e+00, -3.73568894e-01,  1.39553719e-01],\n",
       "       [ 1.00000000e+00, -2.08831510e+00,  4.36105994e+00],\n",
       "       [ 1.00000000e+00, -2.58032316e+00,  6.65806763e+00],\n",
       "       [ 1.00000000e+00,  1.63681975e+00,  2.67917888e+00],\n",
       "       [ 1.00000000e+00, -2.89774963e+00,  8.39695293e+00],\n",
       "       [ 1.00000000e+00, -1.29988916e+00,  1.68971183e+00],\n",
       "       [ 1.00000000e+00, -1.10804387e+00,  1.22776121e+00],\n",
       "       [ 1.00000000e+00, -8.80213061e-01,  7.74775032e-01],\n",
       "       [ 1.00000000e+00,  1.56066168e+00,  2.43566489e+00],\n",
       "       [ 1.00000000e+00,  2.68596597e+00,  7.21441321e+00],\n",
       "       [ 1.00000000e+00, -2.18992211e+00,  4.79575883e+00],\n",
       "       [ 1.00000000e+00, -5.33693501e-03,  2.84828753e-05],\n",
       "       [ 1.00000000e+00, -1.56790980e+00,  2.45834115e+00],\n",
       "       [ 1.00000000e+00, -6.53779588e-01,  4.27427750e-01],\n",
       "       [ 1.00000000e+00, -1.37666491e+00,  1.89520628e+00],\n",
       "       [ 1.00000000e+00,  2.19459158e+00,  4.81623219e+00],\n",
       "       [ 1.00000000e+00, -2.57380682e+00,  6.62448157e+00],\n",
       "       [ 1.00000000e+00, -8.89066076e-02,  7.90438488e-03],\n",
       "       [ 1.00000000e+00,  1.03561159e+00,  1.07249136e+00],\n",
       "       [ 1.00000000e+00,  1.56994391e+00,  2.46472390e+00],\n",
       "       [ 1.00000000e+00,  6.45801324e-01,  4.17059350e-01],\n",
       "       [ 1.00000000e+00, -4.64049083e-01,  2.15341551e-01],\n",
       "       [ 1.00000000e+00, -9.60672270e-01,  9.22891210e-01],\n",
       "       [ 1.00000000e+00, -8.03098126e-01,  6.44966601e-01],\n",
       "       [ 1.00000000e+00, -1.09906948e-02,  1.20795372e-04],\n",
       "       [ 1.00000000e+00,  2.99217738e+00,  8.95312548e+00],\n",
       "       [ 1.00000000e+00,  5.84984521e-01,  3.42206890e-01],\n",
       "       [ 1.00000000e+00,  2.84058239e+00,  8.06890834e+00],\n",
       "       [ 1.00000000e+00,  2.42814438e+00,  5.89588515e+00],\n",
       "       [ 1.00000000e+00, -6.01685311e-01,  3.62025214e-01],\n",
       "       [ 1.00000000e+00, -6.14884685e-01,  3.78083176e-01],\n",
       "       [ 1.00000000e+00,  1.03816803e+00,  1.07779287e+00],\n",
       "       [ 1.00000000e+00, -5.01831942e-01,  2.51835298e-01],\n",
       "       [ 1.00000000e+00, -9.44588837e-01,  8.92248072e-01],\n",
       "       [ 1.00000000e+00, -2.90946768e+00,  8.46500221e+00],\n",
       "       [ 1.00000000e+00,  2.48212040e+00,  6.16092170e+00],\n",
       "       [ 1.00000000e+00, -2.40117969e+00,  5.76566389e+00],\n",
       "       [ 1.00000000e+00, -4.22293732e-01,  1.78331996e-01],\n",
       "       [ 1.00000000e+00, -2.37751005e+00,  5.65255405e+00],\n",
       "       [ 1.00000000e+00,  9.85884873e-01,  9.71968984e-01],\n",
       "       [ 1.00000000e+00,  2.88279689e+00,  8.31051789e+00],\n",
       "       [ 1.00000000e+00, -1.18856263e-01,  1.41268112e-02],\n",
       "       [ 1.00000000e+00,  1.99422356e+00,  3.97692760e+00],\n",
       "       [ 1.00000000e+00, -4.49152467e-02,  2.01737939e-03],\n",
       "       [ 1.00000000e+00,  2.62550535e+00,  6.89327833e+00],\n",
       "       [ 1.00000000e+00,  1.31474504e+00,  1.72855452e+00],\n",
       "       [ 1.00000000e+00,  7.24784882e-01,  5.25313125e-01],\n",
       "       [ 1.00000000e+00,  2.06232673e+00,  4.25319156e+00],\n",
       "       [ 1.00000000e+00,  9.71242442e-02,  9.43311881e-03],\n",
       "       [ 1.00000000e+00,  1.25505634e+00,  1.57516641e+00],\n",
       "       [ 1.00000000e+00,  2.55882819e+00,  6.54760169e+00],\n",
       "       [ 1.00000000e+00,  3.65390192e-01,  1.33509992e-01],\n",
       "       [ 1.00000000e+00, -2.91588089e+00,  8.50236139e+00],\n",
       "       [ 1.00000000e+00,  1.60027374e+00,  2.56087606e+00],\n",
       "       [ 1.00000000e+00,  2.37106984e+00,  5.62197217e+00],\n",
       "       [ 1.00000000e+00,  1.54530793e+00,  2.38797661e+00],\n",
       "       [ 1.00000000e+00,  1.14158670e+00,  1.30322019e+00],\n",
       "       [ 1.00000000e+00, -2.44758392e+00,  5.99066703e+00],\n",
       "       [ 1.00000000e+00,  2.54499176e+00,  6.47698306e+00],\n",
       "       [ 1.00000000e+00,  1.00935200e+00,  1.01879146e+00],\n",
       "       [ 1.00000000e+00, -2.42515069e+00,  5.88135588e+00],\n",
       "       [ 1.00000000e+00, -2.98455931e+00,  8.90759428e+00],\n",
       "       [ 1.00000000e+00, -1.66749583e-01,  2.78054235e-02],\n",
       "       [ 1.00000000e+00, -2.20079037e+00,  4.84347826e+00],\n",
       "       [ 1.00000000e+00, -1.30528725e+00,  1.70377480e+00],\n",
       "       [ 1.00000000e+00, -2.88548642e+00,  8.32603188e+00],\n",
       "       [ 1.00000000e+00, -6.57087445e-02,  4.31763910e-03],\n",
       "       [ 1.00000000e+00,  8.28584196e-01,  6.86551770e-01],\n",
       "       [ 1.00000000e+00,  3.95797375e-01,  1.56655562e-01],\n",
       "       [ 1.00000000e+00,  4.11250278e-01,  1.69126791e-01]])"
      ]
     },
     "execution_count": 12,
     "metadata": {},
     "output_type": "execute_result"
    }
   ],
   "source": [
    "X_train_poly\n",
    "#Below, 3 parts define bias, b(1)*x(1), b(1)*x(1)**2"
   ]
  },
  {
   "cell_type": "code",
   "execution_count": 13,
   "id": "81eb6598",
   "metadata": {},
   "outputs": [
    {
     "data": {
      "text/plain": [
       "array([[ 1.00000000e+00,  1.21431598e+00,  1.47456330e+00],\n",
       "       [ 1.00000000e+00,  7.57599843e-03,  5.73957523e-05],\n",
       "       [ 1.00000000e+00,  1.09056242e+00,  1.18932638e+00],\n",
       "       [ 1.00000000e+00,  2.93801780e+00,  8.63194859e+00],\n",
       "       [ 1.00000000e+00, -1.43326734e-01,  2.05425528e-02],\n",
       "       [ 1.00000000e+00,  2.62636939e-01,  6.89781618e-02],\n",
       "       [ 1.00000000e+00,  2.01481827e+00,  4.05949265e+00],\n",
       "       [ 1.00000000e+00, -2.10275827e+00,  4.42159236e+00],\n",
       "       [ 1.00000000e+00,  2.74176299e+00,  7.51726427e+00],\n",
       "       [ 1.00000000e+00,  1.97115523e+00,  3.88545295e+00],\n",
       "       [ 1.00000000e+00, -1.58231413e+00,  2.50371799e+00],\n",
       "       [ 1.00000000e+00,  2.26971847e+00,  5.15162194e+00],\n",
       "       [ 1.00000000e+00,  2.88398978e+00,  8.31739702e+00],\n",
       "       [ 1.00000000e+00,  2.51131781e-01,  6.30671712e-02],\n",
       "       [ 1.00000000e+00, -1.56861404e+00,  2.46055000e+00],\n",
       "       [ 1.00000000e+00,  2.56702933e+00,  6.58963959e+00],\n",
       "       [ 1.00000000e+00, -2.16400561e+00,  4.68292029e+00],\n",
       "       [ 1.00000000e+00,  2.92320731e+00,  8.54514096e+00],\n",
       "       [ 1.00000000e+00, -1.83825672e+00,  3.37918776e+00],\n",
       "       [ 1.00000000e+00, -8.79631449e-01,  7.73751486e-01]])"
      ]
     },
     "execution_count": 13,
     "metadata": {},
     "output_type": "execute_result"
    }
   ],
   "source": [
    "X_test_poly"
   ]
  },
  {
   "cell_type": "code",
   "execution_count": 14,
   "id": "1cba89d6",
   "metadata": {},
   "outputs": [
    {
     "name": "stdout",
     "output_type": "stream",
     "text": [
      "0.9040496180216868\n"
     ]
    }
   ],
   "source": [
    "from sklearn.metrics import r2_score\n",
    "regression = LinearRegression()\n",
    "regression.fit(X_train_poly,y_train)\n",
    "y_pred = regression.predict(X_test_poly)\n",
    "score = r2_score(y_test,y_pred)\n",
    "print(score)"
   ]
  },
  {
   "cell_type": "code",
   "execution_count": 15,
   "id": "cc043ac0",
   "metadata": {},
   "outputs": [
    {
     "data": {
      "text/plain": [
       "array([[0.        , 1.65512197, 0.56021914]])"
      ]
     },
     "execution_count": 15,
     "metadata": {},
     "output_type": "execute_result"
    }
   ],
   "source": [
    "regression.coef_"
   ]
  },
  {
   "cell_type": "code",
   "execution_count": 17,
   "id": "679f096c",
   "metadata": {},
   "outputs": [
    {
     "data": {
      "text/plain": [
       "array([4.79250619])"
      ]
     },
     "execution_count": 17,
     "metadata": {},
     "output_type": "execute_result"
    }
   ],
   "source": [
    "regression.intercept_"
   ]
  },
  {
   "cell_type": "code",
   "execution_count": 18,
   "id": "662e5c9e",
   "metadata": {},
   "outputs": [
    {
     "data": {
      "text/plain": [
       "<matplotlib.collections.PathCollection at 0x222dfa4a8d0>"
      ]
     },
     "execution_count": 18,
     "metadata": {},
     "output_type": "execute_result"
    },
    {
     "data": {
      "image/png": "[encoded data removed]",
      "text/plain": [
       "<Figure size 640x480 with 1 Axes>"
      ]
     },
     "metadata": {},
     "output_type": "display_data"
    }
   ],
   "source": [
    "plt.scatter(X_train,regression.predict(X_train_poly))\n",
    "plt.scatter(X_train,y_train)"
   ]
  },
  {
   "cell_type": "code",
   "execution_count": 19,
   "id": "c15e09f3",
   "metadata": {},
   "outputs": [],
   "source": [
    "poly=PolynomialFeatures(degree=3,include_bias=True)\n",
    "X_train_poly=poly.fit_transform(X_train)\n",
    "X_test_poly=poly.transform(X_test)"
   ]
  },
  {
   "cell_type": "code",
   "execution_count": 20,
   "id": "d0d15802",
   "metadata": {},
   "outputs": [
    {
     "data": {
      "text/plain": [
       "array([[ 1.00000000e+00, -2.61947561e+00,  6.86165247e+00,\n",
       "        -1.79739313e+01],\n",
       "       [ 1.00000000e+00, -6.60665508e-01,  4.36478914e-01,\n",
       "        -2.88366563e-01],\n",
       "       [ 1.00000000e+00, -2.29045498e+00,  5.24618402e+00,\n",
       "        -1.20161483e+01],\n",
       "       [ 1.00000000e+00,  2.87757593e+00,  8.28044322e+00,\n",
       "         2.38276041e+01],\n",
       "       [ 1.00000000e+00,  2.13778908e+00,  4.57014216e+00,\n",
       "         9.77000003e+00],\n",
       "       [ 1.00000000e+00, -7.80449840e-01,  6.09101952e-01,\n",
       "        -4.75373521e-01],\n",
       "       [ 1.00000000e+00,  2.69584973e+00,  7.26760575e+00,\n",
       "         1.95923730e+01],\n",
       "       [ 1.00000000e+00,  9.32682403e-01,  8.69896465e-01,\n",
       "         8.11337126e-01],\n",
       "       [ 1.00000000e+00,  1.22719957e-01,  1.50601878e-02,\n",
       "         1.84818559e-03],\n",
       "       [ 1.00000000e+00,  8.69860254e-01,  7.56656861e-01,\n",
       "         6.58185729e-01],\n",
       "       [ 1.00000000e+00, -3.73568894e-01,  1.39553719e-01,\n",
       "        -5.21329283e-02],\n",
       "       [ 1.00000000e+00, -2.08831510e+00,  4.36105994e+00,\n",
       "        -9.10726732e+00],\n",
       "       [ 1.00000000e+00, -2.58032316e+00,  6.65806763e+00,\n",
       "        -1.71799661e+01],\n",
       "       [ 1.00000000e+00,  1.63681975e+00,  2.67917888e+00,\n",
       "         4.38533289e+00],\n",
       "       [ 1.00000000e+00, -2.89774963e+00,  8.39695293e+00,\n",
       "        -2.43322673e+01],\n",
       "       [ 1.00000000e+00, -1.29988916e+00,  1.68971183e+00,\n",
       "        -2.19643810e+00],\n",
       "       [ 1.00000000e+00, -1.10804387e+00,  1.22776121e+00,\n",
       "        -1.36041328e+00],\n",
       "       [ 1.00000000e+00, -8.80213061e-01,  7.74775032e-01,\n",
       "        -6.81967103e-01],\n",
       "       [ 1.00000000e+00,  1.56066168e+00,  2.43566489e+00,\n",
       "         3.80124887e+00],\n",
       "       [ 1.00000000e+00,  2.68596597e+00,  7.21441321e+00,\n",
       "         1.93776684e+01],\n",
       "       [ 1.00000000e+00, -2.18992211e+00,  4.79575883e+00,\n",
       "        -1.05023383e+01],\n",
       "       [ 1.00000000e+00, -5.33693501e-03,  2.84828753e-05,\n",
       "        -1.52011254e-07],\n",
       "       [ 1.00000000e+00, -1.56790980e+00,  2.45834115e+00,\n",
       "        -3.85445718e+00],\n",
       "       [ 1.00000000e+00, -6.53779588e-01,  4.27427750e-01,\n",
       "        -2.79443538e-01],\n",
       "       [ 1.00000000e+00, -1.37666491e+00,  1.89520628e+00,\n",
       "        -2.60906398e+00],\n",
       "       [ 1.00000000e+00,  2.19459158e+00,  4.81623219e+00,\n",
       "         1.05696626e+01],\n",
       "       [ 1.00000000e+00, -2.57380682e+00,  6.62448157e+00,\n",
       "        -1.70501359e+01],\n",
       "       [ 1.00000000e+00, -8.89066076e-02,  7.90438488e-03,\n",
       "        -7.02752045e-04],\n",
       "       [ 1.00000000e+00,  1.03561159e+00,  1.07249136e+00,\n",
       "         1.11068448e+00],\n",
       "       [ 1.00000000e+00,  1.56994391e+00,  2.46472390e+00,\n",
       "         3.86947828e+00],\n",
       "       [ 1.00000000e+00,  6.45801324e-01,  4.17059350e-01,\n",
       "         2.69337480e-01],\n",
       "       [ 1.00000000e+00, -4.64049083e-01,  2.15341551e-01,\n",
       "        -9.99290493e-02],\n",
       "       [ 1.00000000e+00, -9.60672270e-01,  9.22891210e-01,\n",
       "        -8.86595994e-01],\n",
       "       [ 1.00000000e+00, -8.03098126e-01,  6.44966601e-01,\n",
       "        -5.17971469e-01],\n",
       "       [ 1.00000000e+00, -1.09906948e-02,  1.20795372e-04,\n",
       "        -1.32762507e-06],\n",
       "       [ 1.00000000e+00,  2.99217738e+00,  8.95312548e+00,\n",
       "         2.67893396e+01],\n",
       "       [ 1.00000000e+00,  5.84984521e-01,  3.42206890e-01,\n",
       "         2.00185734e-01],\n",
       "       [ 1.00000000e+00,  2.84058239e+00,  8.06890834e+00,\n",
       "         2.29203990e+01],\n",
       "       [ 1.00000000e+00,  2.42814438e+00,  5.89588515e+00,\n",
       "         1.43160604e+01],\n",
       "       [ 1.00000000e+00, -6.01685311e-01,  3.62025214e-01,\n",
       "        -2.17825254e-01],\n",
       "       [ 1.00000000e+00, -6.14884685e-01,  3.78083176e-01,\n",
       "        -2.32477555e-01],\n",
       "       [ 1.00000000e+00,  1.03816803e+00,  1.07779287e+00,\n",
       "         1.11893010e+00],\n",
       "       [ 1.00000000e+00, -5.01831942e-01,  2.51835298e-01,\n",
       "        -1.26378996e-01],\n",
       "       [ 1.00000000e+00, -9.44588837e-01,  8.92248072e-01,\n",
       "        -8.42807569e-01],\n",
       "       [ 1.00000000e+00, -2.90946768e+00,  8.46500221e+00,\n",
       "        -2.46286504e+01],\n",
       "       [ 1.00000000e+00,  2.48212040e+00,  6.16092170e+00,\n",
       "         1.52921495e+01],\n",
       "       [ 1.00000000e+00, -2.40117969e+00,  5.76566389e+00,\n",
       "        -1.38443950e+01],\n",
       "       [ 1.00000000e+00, -4.22293732e-01,  1.78331996e-01,\n",
       "        -7.53084839e-02],\n",
       "       [ 1.00000000e+00, -2.37751005e+00,  5.65255405e+00,\n",
       "        -1.34390041e+01],\n",
       "       [ 1.00000000e+00,  9.85884873e-01,  9.71968984e-01,\n",
       "         9.58249518e-01],\n",
       "       [ 1.00000000e+00,  2.88279689e+00,  8.31051789e+00,\n",
       "         2.39575351e+01],\n",
       "       [ 1.00000000e+00, -1.18856263e-01,  1.41268112e-02,\n",
       "        -1.67905999e-03],\n",
       "       [ 1.00000000e+00,  1.99422356e+00,  3.97692760e+00,\n",
       "         7.93088270e+00],\n",
       "       [ 1.00000000e+00, -4.49152467e-02,  2.01737939e-03,\n",
       "        -9.06110928e-05],\n",
       "       [ 1.00000000e+00,  2.62550535e+00,  6.89327833e+00,\n",
       "         1.80983391e+01],\n",
       "       [ 1.00000000e+00,  1.31474504e+00,  1.72855452e+00,\n",
       "         2.27260848e+00],\n",
       "       [ 1.00000000e+00,  7.24784882e-01,  5.25313125e-01,\n",
       "         3.80739011e-01],\n",
       "       [ 1.00000000e+00,  2.06232673e+00,  4.25319156e+00,\n",
       "         8.77147066e+00],\n",
       "       [ 1.00000000e+00,  9.71242442e-02,  9.43311881e-03,\n",
       "         9.16184535e-04],\n",
       "       [ 1.00000000e+00,  1.25505634e+00,  1.57516641e+00,\n",
       "         1.97692258e+00],\n",
       "       [ 1.00000000e+00,  2.55882819e+00,  6.54760169e+00,\n",
       "         1.67541878e+01],\n",
       "       [ 1.00000000e+00,  3.65390192e-01,  1.33509992e-01,\n",
       "         4.87832418e-02],\n",
       "       [ 1.00000000e+00, -2.91588089e+00,  8.50236139e+00,\n",
       "        -2.47918731e+01],\n",
       "       [ 1.00000000e+00,  1.60027374e+00,  2.56087606e+00,\n",
       "         4.09810271e+00],\n",
       "       [ 1.00000000e+00,  2.37106984e+00,  5.62197217e+00,\n",
       "         1.33300886e+01],\n",
       "       [ 1.00000000e+00,  1.54530793e+00,  2.38797661e+00,\n",
       "         3.69015919e+00],\n",
       "       [ 1.00000000e+00,  1.14158670e+00,  1.30322019e+00,\n",
       "         1.48773884e+00],\n",
       "       [ 1.00000000e+00, -2.44758392e+00,  5.99066703e+00,\n",
       "        -1.46626603e+01],\n",
       "       [ 1.00000000e+00,  2.54499176e+00,  6.47698306e+00,\n",
       "         1.64838685e+01],\n",
       "       [ 1.00000000e+00,  1.00935200e+00,  1.01879146e+00,\n",
       "         1.02831919e+00],\n",
       "       [ 1.00000000e+00, -2.42515069e+00,  5.88135588e+00,\n",
       "        -1.42631743e+01],\n",
       "       [ 1.00000000e+00, -2.98455931e+00,  8.90759428e+00,\n",
       "        -2.65852434e+01],\n",
       "       [ 1.00000000e+00, -1.66749583e-01,  2.78054235e-02,\n",
       "        -4.63654278e-03],\n",
       "       [ 1.00000000e+00, -2.20079037e+00,  4.84347826e+00,\n",
       "        -1.06594803e+01],\n",
       "       [ 1.00000000e+00, -1.30528725e+00,  1.70377480e+00,\n",
       "        -2.22391551e+00],\n",
       "       [ 1.00000000e+00, -2.88548642e+00,  8.32603188e+00,\n",
       "        -2.40246519e+01],\n",
       "       [ 1.00000000e+00, -6.57087445e-02,  4.31763910e-03,\n",
       "        -2.83706644e-04],\n",
       "       [ 1.00000000e+00,  8.28584196e-01,  6.86551770e-01,\n",
       "         5.68865946e-01],\n",
       "       [ 1.00000000e+00,  3.95797375e-01,  1.56655562e-01,\n",
       "         6.20038604e-02],\n",
       "       [ 1.00000000e+00,  4.11250278e-01,  1.69126791e-01,\n",
       "         6.95534399e-02]])"
      ]
     },
     "execution_count": 20,
     "metadata": {},
     "output_type": "execute_result"
    }
   ],
   "source": [
    "X_train_poly"
   ]
  },
  {
   "cell_type": "code",
   "execution_count": 21,
   "id": "c7d1814b",
   "metadata": {},
   "outputs": [
    {
     "data": {
      "text/plain": [
       "array([[ 1.00000000e+00,  1.21431598e+00,  1.47456330e+00,\n",
       "         1.79058577e+00],\n",
       "       [ 1.00000000e+00,  7.57599843e-03,  5.73957523e-05,\n",
       "         4.34830129e-07],\n",
       "       [ 1.00000000e+00,  1.09056242e+00,  1.18932638e+00,\n",
       "         1.29703465e+00],\n",
       "       [ 1.00000000e+00,  2.93801780e+00,  8.63194859e+00,\n",
       "         2.53608186e+01],\n",
       "       [ 1.00000000e+00, -1.43326734e-01,  2.05425528e-02,\n",
       "        -2.94429700e-03],\n",
       "       [ 1.00000000e+00,  2.62636939e-01,  6.89781618e-02,\n",
       "         1.81162133e-02],\n",
       "       [ 1.00000000e+00,  2.01481827e+00,  4.05949265e+00,\n",
       "         8.17913996e+00],\n",
       "       [ 1.00000000e+00, -2.10275827e+00,  4.42159236e+00,\n",
       "        -9.29753991e+00],\n",
       "       [ 1.00000000e+00,  2.74176299e+00,  7.51726427e+00,\n",
       "         2.06105569e+01],\n",
       "       [ 1.00000000e+00,  1.97115523e+00,  3.88545295e+00,\n",
       "         7.65883091e+00],\n",
       "       [ 1.00000000e+00, -1.58231413e+00,  2.50371799e+00,\n",
       "        -3.96166835e+00],\n",
       "       [ 1.00000000e+00,  2.26971847e+00,  5.15162194e+00,\n",
       "         1.16927315e+01],\n",
       "       [ 1.00000000e+00,  2.88398978e+00,  8.31739702e+00,\n",
       "         2.39872880e+01],\n",
       "       [ 1.00000000e+00,  2.51131781e-01,  6.30671712e-02,\n",
       "         1.58381710e-02],\n",
       "       [ 1.00000000e+00, -1.56861404e+00,  2.46055000e+00,\n",
       "        -3.85965327e+00],\n",
       "       [ 1.00000000e+00,  2.56702933e+00,  6.58963959e+00,\n",
       "         1.69157981e+01],\n",
       "       [ 1.00000000e+00, -2.16400561e+00,  4.68292029e+00,\n",
       "        -1.01338658e+01],\n",
       "       [ 1.00000000e+00,  2.92320731e+00,  8.54514096e+00,\n",
       "         2.49792185e+01],\n",
       "       [ 1.00000000e+00, -1.83825672e+00,  3.37918776e+00,\n",
       "        -6.21181459e+00],\n",
       "       [ 1.00000000e+00, -8.79631449e-01,  7.73751486e-01,\n",
       "        -6.80616141e-01]])"
      ]
     },
     "execution_count": 21,
     "metadata": {},
     "output_type": "execute_result"
    }
   ],
   "source": [
    "X_test_poly"
   ]
  },
  {
   "cell_type": "code",
   "execution_count": 22,
   "id": "beb70f0a",
   "metadata": {},
   "outputs": [
    {
     "name": "stdout",
     "output_type": "stream",
     "text": [
      "0.8991647868716185\n"
     ]
    }
   ],
   "source": [
    "from sklearn.metrics import r2_score\n",
    "regression = LinearRegression()\n",
    "regression.fit(X_train_poly, y_train)\n",
    "y_pred = regression.predict(X_test_poly)\n",
    "score=r2_score(y_test,y_pred)\n",
    "print(score)"
   ]
  },
  {
   "cell_type": "code",
   "execution_count": 23,
   "id": "5f82d583",
   "metadata": {},
   "outputs": [
    {
     "data": {
      "text/plain": [
       "array([[ 1.00000000e+00, -3.00000000e+00,  9.00000000e+00,\n",
       "        -2.70000000e+01],\n",
       "       [ 1.00000000e+00, -2.96984925e+00,  8.82000455e+00,\n",
       "        -2.61940839e+01],\n",
       "       [ 1.00000000e+00, -2.93969849e+00,  8.64182723e+00,\n",
       "        -2.54043665e+01],\n",
       "       [ 1.00000000e+00, -2.90954774e+00,  8.46546804e+00,\n",
       "        -2.46306834e+01],\n",
       "       [ 1.00000000e+00, -2.87939698e+00,  8.29092700e+00,\n",
       "        -2.38728702e+01],\n",
       "       [ 1.00000000e+00, -2.84924623e+00,  8.11820409e+00,\n",
       "        -2.31307624e+01],\n",
       "       [ 1.00000000e+00, -2.81909548e+00,  7.94729931e+00,\n",
       "        -2.24041955e+01],\n",
       "       [ 1.00000000e+00, -2.78894472e+00,  7.77821267e+00,\n",
       "        -2.16930052e+01],\n",
       "       [ 1.00000000e+00, -2.75879397e+00,  7.61094417e+00,\n",
       "        -2.09970269e+01],\n",
       "       [ 1.00000000e+00, -2.72864322e+00,  7.44549380e+00,\n",
       "        -2.03160961e+01],\n",
       "       [ 1.00000000e+00, -2.69849246e+00,  7.28186157e+00,\n",
       "        -1.96500486e+01],\n",
       "       [ 1.00000000e+00, -2.66834171e+00,  7.12004747e+00,\n",
       "        -1.89987196e+01],\n",
       "       [ 1.00000000e+00, -2.63819095e+00,  6.96005151e+00,\n",
       "        -1.83619449e+01],\n",
       "       [ 1.00000000e+00, -2.60804020e+00,  6.80187369e+00,\n",
       "        -1.77395600e+01],\n",
       "       [ 1.00000000e+00, -2.57788945e+00,  6.64551400e+00,\n",
       "        -1.71314004e+01],\n",
       "       [ 1.00000000e+00, -2.54773869e+00,  6.49097245e+00,\n",
       "        -1.65373017e+01],\n",
       "       [ 1.00000000e+00, -2.51758794e+00,  6.33824903e+00,\n",
       "        -1.59570993e+01],\n",
       "       [ 1.00000000e+00, -2.48743719e+00,  6.18734375e+00,\n",
       "        -1.53906289e+01],\n",
       "       [ 1.00000000e+00, -2.45728643e+00,  6.03825661e+00,\n",
       "        -1.48377260e+01],\n",
       "       [ 1.00000000e+00, -2.42713568e+00,  5.89098760e+00,\n",
       "        -1.42982262e+01],\n",
       "       [ 1.00000000e+00, -2.39698492e+00,  5.74553673e+00,\n",
       "        -1.37719649e+01],\n",
       "       [ 1.00000000e+00, -2.36683417e+00,  5.60190399e+00,\n",
       "        -1.32587778e+01],\n",
       "       [ 1.00000000e+00, -2.33668342e+00,  5.46008939e+00,\n",
       "        -1.27585003e+01],\n",
       "       [ 1.00000000e+00, -2.30653266e+00,  5.32009293e+00,\n",
       "        -1.22709681e+01],\n",
       "       [ 1.00000000e+00, -2.27638191e+00,  5.18191460e+00,\n",
       "        -1.17960166e+01],\n",
       "       [ 1.00000000e+00, -2.24623116e+00,  5.04555441e+00,\n",
       "        -1.13334815e+01],\n",
       "       [ 1.00000000e+00, -2.21608040e+00,  4.91101235e+00,\n",
       "        -1.08831982e+01],\n",
       "       [ 1.00000000e+00, -2.18592965e+00,  4.77828843e+00,\n",
       "        -1.04450023e+01],\n",
       "       [ 1.00000000e+00, -2.15577889e+00,  4.64738264e+00,\n",
       "        -1.00187294e+01],\n",
       "       [ 1.00000000e+00, -2.12562814e+00,  4.51829499e+00,\n",
       "        -9.60421498e+00],\n",
       "       [ 1.00000000e+00, -2.09547739e+00,  4.39102548e+00,\n",
       "        -9.20129460e+00],\n",
       "       [ 1.00000000e+00, -2.06532663e+00,  4.26557410e+00,\n",
       "        -8.80980380e+00],\n",
       "       [ 1.00000000e+00, -2.03517588e+00,  4.14194086e+00,\n",
       "        -8.42957813e+00],\n",
       "       [ 1.00000000e+00, -2.00502513e+00,  4.02012575e+00,\n",
       "        -8.06045315e+00],\n",
       "       [ 1.00000000e+00, -1.97487437e+00,  3.90012878e+00,\n",
       "        -7.70226438e+00],\n",
       "       [ 1.00000000e+00, -1.94472362e+00,  3.78194995e+00,\n",
       "        -7.35484739e+00],\n",
       "       [ 1.00000000e+00, -1.91457286e+00,  3.66558925e+00,\n",
       "        -7.01803772e+00],\n",
       "       [ 1.00000000e+00, -1.88442211e+00,  3.55104669e+00,\n",
       "        -6.69167090e+00],\n",
       "       [ 1.00000000e+00, -1.85427136e+00,  3.43832226e+00,\n",
       "        -6.37558249e+00],\n",
       "       [ 1.00000000e+00, -1.82412060e+00,  3.32741597e+00,\n",
       "        -6.06960803e+00],\n",
       "       [ 1.00000000e+00, -1.79396985e+00,  3.21832782e+00,\n",
       "        -5.77358307e+00],\n",
       "       [ 1.00000000e+00, -1.76381910e+00,  3.11105780e+00,\n",
       "        -5.48734316e+00],\n",
       "       [ 1.00000000e+00, -1.73366834e+00,  3.00560592e+00,\n",
       "        -5.21072383e+00],\n",
       "       [ 1.00000000e+00, -1.70351759e+00,  2.90197217e+00,\n",
       "        -4.94356064e+00],\n",
       "       [ 1.00000000e+00, -1.67336683e+00,  2.80015656e+00,\n",
       "        -4.68568912e+00],\n",
       "       [ 1.00000000e+00, -1.64321608e+00,  2.70015909e+00,\n",
       "        -4.43694483e+00],\n",
       "       [ 1.00000000e+00, -1.61306533e+00,  2.60197975e+00,\n",
       "        -4.19716331e+00],\n",
       "       [ 1.00000000e+00, -1.58291457e+00,  2.50561854e+00,\n",
       "        -3.96618011e+00],\n",
       "       [ 1.00000000e+00, -1.55276382e+00,  2.41107548e+00,\n",
       "        -3.74383077e+00],\n",
       "       [ 1.00000000e+00, -1.52261307e+00,  2.31835055e+00,\n",
       "        -3.52995083e+00],\n",
       "       [ 1.00000000e+00, -1.49246231e+00,  2.22744375e+00,\n",
       "        -3.32437585e+00],\n",
       "       [ 1.00000000e+00, -1.46231156e+00,  2.13835509e+00,\n",
       "        -3.12694137e+00],\n",
       "       [ 1.00000000e+00, -1.43216080e+00,  2.05108457e+00,\n",
       "        -2.93748292e+00],\n",
       "       [ 1.00000000e+00, -1.40201005e+00,  1.96563218e+00,\n",
       "        -2.75583607e+00],\n",
       "       [ 1.00000000e+00, -1.37185930e+00,  1.88199793e+00,\n",
       "        -2.58183636e+00],\n",
       "       [ 1.00000000e+00, -1.34170854e+00,  1.80018181e+00,\n",
       "        -2.41531932e+00],\n",
       "       [ 1.00000000e+00, -1.31155779e+00,  1.72018383e+00,\n",
       "        -2.25612051e+00],\n",
       "       [ 1.00000000e+00, -1.28140704e+00,  1.64200399e+00,\n",
       "        -2.10407546e+00],\n",
       "       [ 1.00000000e+00, -1.25125628e+00,  1.56564228e+00,\n",
       "        -1.95901974e+00],\n",
       "       [ 1.00000000e+00, -1.22110553e+00,  1.49109871e+00,\n",
       "        -1.82078888e+00],\n",
       "       [ 1.00000000e+00, -1.19095477e+00,  1.41837327e+00,\n",
       "        -1.68921842e+00],\n",
       "       [ 1.00000000e+00, -1.16080402e+00,  1.34746597e+00,\n",
       "        -1.56414392e+00],\n",
       "       [ 1.00000000e+00, -1.13065327e+00,  1.27837681e+00,\n",
       "        -1.44540091e+00],\n",
       "       [ 1.00000000e+00, -1.10050251e+00,  1.21110578e+00,\n",
       "        -1.33282495e+00],\n",
       "       [ 1.00000000e+00, -1.07035176e+00,  1.14565289e+00,\n",
       "        -1.22625158e+00],\n",
       "       [ 1.00000000e+00, -1.04020101e+00,  1.08201813e+00,\n",
       "        -1.12551635e+00],\n",
       "       [ 1.00000000e+00, -1.01005025e+00,  1.02020151e+00,\n",
       "        -1.03045479e+00],\n",
       "       [ 1.00000000e+00, -9.79899497e-01,  9.60203025e-01,\n",
       "        -9.40902462e-01],\n",
       "       [ 1.00000000e+00, -9.49748744e-01,  9.02022676e-01,\n",
       "        -8.56694904e-01],\n",
       "       [ 1.00000000e+00, -9.19597990e-01,  8.45660463e-01,\n",
       "        -7.77667662e-01],\n",
       "       [ 1.00000000e+00, -8.89447236e-01,  7.91116386e-01,\n",
       "        -7.03656283e-01],\n",
       "       [ 1.00000000e+00, -8.59296482e-01,  7.38390445e-01,\n",
       "        -6.34496312e-01],\n",
       "       [ 1.00000000e+00, -8.29145729e-01,  6.87482639e-01,\n",
       "        -5.70023294e-01],\n",
       "       [ 1.00000000e+00, -7.98994975e-01,  6.38392970e-01,\n",
       "        -5.10072775e-01],\n",
       "       [ 1.00000000e+00, -7.68844221e-01,  5.91121436e-01,\n",
       "        -4.54480300e-01],\n",
       "       [ 1.00000000e+00, -7.38693467e-01,  5.45668039e-01,\n",
       "        -4.03081416e-01],\n",
       "       [ 1.00000000e+00, -7.08542714e-01,  5.02032777e-01,\n",
       "        -3.55711666e-01],\n",
       "       [ 1.00000000e+00, -6.78391960e-01,  4.60215651e-01,\n",
       "        -3.12206597e-01],\n",
       "       [ 1.00000000e+00, -6.48241206e-01,  4.20216661e-01,\n",
       "        -2.72401755e-01],\n",
       "       [ 1.00000000e+00, -6.18090452e-01,  3.82035807e-01,\n",
       "        -2.36132685e-01],\n",
       "       [ 1.00000000e+00, -5.87939698e-01,  3.45673089e-01,\n",
       "        -2.03234932e-01],\n",
       "       [ 1.00000000e+00, -5.57788945e-01,  3.11128507e-01,\n",
       "        -1.73544042e-01],\n",
       "       [ 1.00000000e+00, -5.27638191e-01,  2.78402061e-01,\n",
       "        -1.46895560e-01],\n",
       "       [ 1.00000000e+00, -4.97487437e-01,  2.47493750e-01,\n",
       "        -1.23125031e-01],\n",
       "       [ 1.00000000e+00, -4.67336683e-01,  2.18403576e-01,\n",
       "        -1.02068003e-01],\n",
       "       [ 1.00000000e+00, -4.37185930e-01,  1.91131537e-01,\n",
       "        -8.35600187e-02],\n",
       "       [ 1.00000000e+00, -4.07035176e-01,  1.65677634e-01,\n",
       "        -6.74366251e-02],\n",
       "       [ 1.00000000e+00, -3.76884422e-01,  1.42041868e-01,\n",
       "        -5.35333672e-02],\n",
       "       [ 1.00000000e+00, -3.46733668e-01,  1.20224237e-01,\n",
       "        -4.16857906e-02],\n",
       "       [ 1.00000000e+00, -3.16582915e-01,  1.00224742e-01,\n",
       "        -3.17294409e-02],\n",
       "       [ 1.00000000e+00, -2.86432161e-01,  8.20433827e-02,\n",
       "        -2.34998634e-02],\n",
       "       [ 1.00000000e+00, -2.56281407e-01,  6.56801596e-02,\n",
       "        -1.68326037e-02],\n",
       "       [ 1.00000000e+00, -2.26130653e-01,  5.11350723e-02,\n",
       "        -1.15632073e-02],\n",
       "       [ 1.00000000e+00, -1.95979899e-01,  3.84081210e-02,\n",
       "        -7.52721969e-03],\n",
       "       [ 1.00000000e+00, -1.65829146e-01,  2.74993056e-02,\n",
       "        -4.56018635e-03],\n",
       "       [ 1.00000000e+00, -1.35678392e-01,  1.84086260e-02,\n",
       "        -2.49765278e-03],\n",
       "       [ 1.00000000e+00, -1.05527638e-01,  1.11360824e-02,\n",
       "        -1.17516448e-03],\n",
       "       [ 1.00000000e+00, -7.53768844e-02,  5.68167471e-03,\n",
       "        -4.28266938e-04],\n",
       "       [ 1.00000000e+00, -4.52261307e-02,  2.04540289e-03,\n",
       "        -9.25056585e-05],\n",
       "       [ 1.00000000e+00, -1.50753769e-02,  2.27266988e-04,\n",
       "        -3.42613550e-06],\n",
       "       [ 1.00000000e+00,  1.50753769e-02,  2.27266988e-04,\n",
       "         3.42613550e-06],\n",
       "       [ 1.00000000e+00,  4.52261307e-02,  2.04540289e-03,\n",
       "         9.25056585e-05],\n",
       "       [ 1.00000000e+00,  7.53768844e-02,  5.68167471e-03,\n",
       "         4.28266938e-04],\n",
       "       [ 1.00000000e+00,  1.05527638e-01,  1.11360824e-02,\n",
       "         1.17516448e-03],\n",
       "       [ 1.00000000e+00,  1.35678392e-01,  1.84086260e-02,\n",
       "         2.49765278e-03],\n",
       "       [ 1.00000000e+00,  1.65829146e-01,  2.74993056e-02,\n",
       "         4.56018635e-03],\n",
       "       [ 1.00000000e+00,  1.95979899e-01,  3.84081210e-02,\n",
       "         7.52721969e-03],\n",
       "       [ 1.00000000e+00,  2.26130653e-01,  5.11350723e-02,\n",
       "         1.15632073e-02],\n",
       "       [ 1.00000000e+00,  2.56281407e-01,  6.56801596e-02,\n",
       "         1.68326037e-02],\n",
       "       [ 1.00000000e+00,  2.86432161e-01,  8.20433827e-02,\n",
       "         2.34998634e-02],\n",
       "       [ 1.00000000e+00,  3.16582915e-01,  1.00224742e-01,\n",
       "         3.17294409e-02],\n",
       "       [ 1.00000000e+00,  3.46733668e-01,  1.20224237e-01,\n",
       "         4.16857906e-02],\n",
       "       [ 1.00000000e+00,  3.76884422e-01,  1.42041868e-01,\n",
       "         5.35333672e-02],\n",
       "       [ 1.00000000e+00,  4.07035176e-01,  1.65677634e-01,\n",
       "         6.74366251e-02],\n",
       "       [ 1.00000000e+00,  4.37185930e-01,  1.91131537e-01,\n",
       "         8.35600187e-02],\n",
       "       [ 1.00000000e+00,  4.67336683e-01,  2.18403576e-01,\n",
       "         1.02068003e-01],\n",
       "       [ 1.00000000e+00,  4.97487437e-01,  2.47493750e-01,\n",
       "         1.23125031e-01],\n",
       "       [ 1.00000000e+00,  5.27638191e-01,  2.78402061e-01,\n",
       "         1.46895560e-01],\n",
       "       [ 1.00000000e+00,  5.57788945e-01,  3.11128507e-01,\n",
       "         1.73544042e-01],\n",
       "       [ 1.00000000e+00,  5.87939698e-01,  3.45673089e-01,\n",
       "         2.03234932e-01],\n",
       "       [ 1.00000000e+00,  6.18090452e-01,  3.82035807e-01,\n",
       "         2.36132685e-01],\n",
       "       [ 1.00000000e+00,  6.48241206e-01,  4.20216661e-01,\n",
       "         2.72401755e-01],\n",
       "       [ 1.00000000e+00,  6.78391960e-01,  4.60215651e-01,\n",
       "         3.12206597e-01],\n",
       "       [ 1.00000000e+00,  7.08542714e-01,  5.02032777e-01,\n",
       "         3.55711666e-01],\n",
       "       [ 1.00000000e+00,  7.38693467e-01,  5.45668039e-01,\n",
       "         4.03081416e-01],\n",
       "       [ 1.00000000e+00,  7.68844221e-01,  5.91121436e-01,\n",
       "         4.54480300e-01],\n",
       "       [ 1.00000000e+00,  7.98994975e-01,  6.38392970e-01,\n",
       "         5.10072775e-01],\n",
       "       [ 1.00000000e+00,  8.29145729e-01,  6.87482639e-01,\n",
       "         5.70023294e-01],\n",
       "       [ 1.00000000e+00,  8.59296482e-01,  7.38390445e-01,\n",
       "         6.34496312e-01],\n",
       "       [ 1.00000000e+00,  8.89447236e-01,  7.91116386e-01,\n",
       "         7.03656283e-01],\n",
       "       [ 1.00000000e+00,  9.19597990e-01,  8.45660463e-01,\n",
       "         7.77667662e-01],\n",
       "       [ 1.00000000e+00,  9.49748744e-01,  9.02022676e-01,\n",
       "         8.56694904e-01],\n",
       "       [ 1.00000000e+00,  9.79899497e-01,  9.60203025e-01,\n",
       "         9.40902462e-01],\n",
       "       [ 1.00000000e+00,  1.01005025e+00,  1.02020151e+00,\n",
       "         1.03045479e+00],\n",
       "       [ 1.00000000e+00,  1.04020101e+00,  1.08201813e+00,\n",
       "         1.12551635e+00],\n",
       "       [ 1.00000000e+00,  1.07035176e+00,  1.14565289e+00,\n",
       "         1.22625158e+00],\n",
       "       [ 1.00000000e+00,  1.10050251e+00,  1.21110578e+00,\n",
       "         1.33282495e+00],\n",
       "       [ 1.00000000e+00,  1.13065327e+00,  1.27837681e+00,\n",
       "         1.44540091e+00],\n",
       "       [ 1.00000000e+00,  1.16080402e+00,  1.34746597e+00,\n",
       "         1.56414392e+00],\n",
       "       [ 1.00000000e+00,  1.19095477e+00,  1.41837327e+00,\n",
       "         1.68921842e+00],\n",
       "       [ 1.00000000e+00,  1.22110553e+00,  1.49109871e+00,\n",
       "         1.82078888e+00],\n",
       "       [ 1.00000000e+00,  1.25125628e+00,  1.56564228e+00,\n",
       "         1.95901974e+00],\n",
       "       [ 1.00000000e+00,  1.28140704e+00,  1.64200399e+00,\n",
       "         2.10407546e+00],\n",
       "       [ 1.00000000e+00,  1.31155779e+00,  1.72018383e+00,\n",
       "         2.25612051e+00],\n",
       "       [ 1.00000000e+00,  1.34170854e+00,  1.80018181e+00,\n",
       "         2.41531932e+00],\n",
       "       [ 1.00000000e+00,  1.37185930e+00,  1.88199793e+00,\n",
       "         2.58183636e+00],\n",
       "       [ 1.00000000e+00,  1.40201005e+00,  1.96563218e+00,\n",
       "         2.75583607e+00],\n",
       "       [ 1.00000000e+00,  1.43216080e+00,  2.05108457e+00,\n",
       "         2.93748292e+00],\n",
       "       [ 1.00000000e+00,  1.46231156e+00,  2.13835509e+00,\n",
       "         3.12694137e+00],\n",
       "       [ 1.00000000e+00,  1.49246231e+00,  2.22744375e+00,\n",
       "         3.32437585e+00],\n",
       "       [ 1.00000000e+00,  1.52261307e+00,  2.31835055e+00,\n",
       "         3.52995083e+00],\n",
       "       [ 1.00000000e+00,  1.55276382e+00,  2.41107548e+00,\n",
       "         3.74383077e+00],\n",
       "       [ 1.00000000e+00,  1.58291457e+00,  2.50561854e+00,\n",
       "         3.96618011e+00],\n",
       "       [ 1.00000000e+00,  1.61306533e+00,  2.60197975e+00,\n",
       "         4.19716331e+00],\n",
       "       [ 1.00000000e+00,  1.64321608e+00,  2.70015909e+00,\n",
       "         4.43694483e+00],\n",
       "       [ 1.00000000e+00,  1.67336683e+00,  2.80015656e+00,\n",
       "         4.68568912e+00],\n",
       "       [ 1.00000000e+00,  1.70351759e+00,  2.90197217e+00,\n",
       "         4.94356064e+00],\n",
       "       [ 1.00000000e+00,  1.73366834e+00,  3.00560592e+00,\n",
       "         5.21072383e+00],\n",
       "       [ 1.00000000e+00,  1.76381910e+00,  3.11105780e+00,\n",
       "         5.48734316e+00],\n",
       "       [ 1.00000000e+00,  1.79396985e+00,  3.21832782e+00,\n",
       "         5.77358307e+00],\n",
       "       [ 1.00000000e+00,  1.82412060e+00,  3.32741597e+00,\n",
       "         6.06960803e+00],\n",
       "       [ 1.00000000e+00,  1.85427136e+00,  3.43832226e+00,\n",
       "         6.37558249e+00],\n",
       "       [ 1.00000000e+00,  1.88442211e+00,  3.55104669e+00,\n",
       "         6.69167090e+00],\n",
       "       [ 1.00000000e+00,  1.91457286e+00,  3.66558925e+00,\n",
       "         7.01803772e+00],\n",
       "       [ 1.00000000e+00,  1.94472362e+00,  3.78194995e+00,\n",
       "         7.35484739e+00],\n",
       "       [ 1.00000000e+00,  1.97487437e+00,  3.90012878e+00,\n",
       "         7.70226438e+00],\n",
       "       [ 1.00000000e+00,  2.00502513e+00,  4.02012575e+00,\n",
       "         8.06045315e+00],\n",
       "       [ 1.00000000e+00,  2.03517588e+00,  4.14194086e+00,\n",
       "         8.42957813e+00],\n",
       "       [ 1.00000000e+00,  2.06532663e+00,  4.26557410e+00,\n",
       "         8.80980380e+00],\n",
       "       [ 1.00000000e+00,  2.09547739e+00,  4.39102548e+00,\n",
       "         9.20129460e+00],\n",
       "       [ 1.00000000e+00,  2.12562814e+00,  4.51829499e+00,\n",
       "         9.60421498e+00],\n",
       "       [ 1.00000000e+00,  2.15577889e+00,  4.64738264e+00,\n",
       "         1.00187294e+01],\n",
       "       [ 1.00000000e+00,  2.18592965e+00,  4.77828843e+00,\n",
       "         1.04450023e+01],\n",
       "       [ 1.00000000e+00,  2.21608040e+00,  4.91101235e+00,\n",
       "         1.08831982e+01],\n",
       "       [ 1.00000000e+00,  2.24623116e+00,  5.04555441e+00,\n",
       "         1.13334815e+01],\n",
       "       [ 1.00000000e+00,  2.27638191e+00,  5.18191460e+00,\n",
       "         1.17960166e+01],\n",
       "       [ 1.00000000e+00,  2.30653266e+00,  5.32009293e+00,\n",
       "         1.22709681e+01],\n",
       "       [ 1.00000000e+00,  2.33668342e+00,  5.46008939e+00,\n",
       "         1.27585003e+01],\n",
       "       [ 1.00000000e+00,  2.36683417e+00,  5.60190399e+00,\n",
       "         1.32587778e+01],\n",
       "       [ 1.00000000e+00,  2.39698492e+00,  5.74553673e+00,\n",
       "         1.37719649e+01],\n",
       "       [ 1.00000000e+00,  2.42713568e+00,  5.89098760e+00,\n",
       "         1.42982262e+01],\n",
       "       [ 1.00000000e+00,  2.45728643e+00,  6.03825661e+00,\n",
       "         1.48377260e+01],\n",
       "       [ 1.00000000e+00,  2.48743719e+00,  6.18734375e+00,\n",
       "         1.53906289e+01],\n",
       "       [ 1.00000000e+00,  2.51758794e+00,  6.33824903e+00,\n",
       "         1.59570993e+01],\n",
       "       [ 1.00000000e+00,  2.54773869e+00,  6.49097245e+00,\n",
       "         1.65373017e+01],\n",
       "       [ 1.00000000e+00,  2.57788945e+00,  6.64551400e+00,\n",
       "         1.71314004e+01],\n",
       "       [ 1.00000000e+00,  2.60804020e+00,  6.80187369e+00,\n",
       "         1.77395600e+01],\n",
       "       [ 1.00000000e+00,  2.63819095e+00,  6.96005151e+00,\n",
       "         1.83619449e+01],\n",
       "       [ 1.00000000e+00,  2.66834171e+00,  7.12004747e+00,\n",
       "         1.89987196e+01],\n",
       "       [ 1.00000000e+00,  2.69849246e+00,  7.28186157e+00,\n",
       "         1.96500486e+01],\n",
       "       [ 1.00000000e+00,  2.72864322e+00,  7.44549380e+00,\n",
       "         2.03160961e+01],\n",
       "       [ 1.00000000e+00,  2.75879397e+00,  7.61094417e+00,\n",
       "         2.09970269e+01],\n",
       "       [ 1.00000000e+00,  2.78894472e+00,  7.77821267e+00,\n",
       "         2.16930052e+01],\n",
       "       [ 1.00000000e+00,  2.81909548e+00,  7.94729931e+00,\n",
       "         2.24041955e+01],\n",
       "       [ 1.00000000e+00,  2.84924623e+00,  8.11820409e+00,\n",
       "         2.31307624e+01],\n",
       "       [ 1.00000000e+00,  2.87939698e+00,  8.29092700e+00,\n",
       "         2.38728702e+01],\n",
       "       [ 1.00000000e+00,  2.90954774e+00,  8.46546804e+00,\n",
       "         2.46306834e+01],\n",
       "       [ 1.00000000e+00,  2.93969849e+00,  8.64182723e+00,\n",
       "         2.54043665e+01],\n",
       "       [ 1.00000000e+00,  2.96984925e+00,  8.82000455e+00,\n",
       "         2.61940839e+01],\n",
       "       [ 1.00000000e+00,  3.00000000e+00,  9.00000000e+00,\n",
       "         2.70000000e+01]])"
      ]
     },
     "execution_count": 23,
     "metadata": {},
     "output_type": "execute_result"
    }
   ],
   "source": [
    "# New data Prediction\n",
    "X_new = np.linspace(-3, 3, 200).reshape(200, 1)\n",
    "X_new_poly = poly.transform(X_new)\n",
    "X_new_poly"
   ]
  },
  {
   "cell_type": "code",
   "execution_count": 25,
   "id": "581e0c8b",
   "metadata": {},
   "outputs": [
    {
     "data": {
      "image/png": "[encoded data removed]",
      "text/plain": [
       "<Figure size 640x480 with 1 Axes>"
      ]
     },
     "metadata": {},
     "output_type": "display_data"
    }
   ],
   "source": [
    "y_new = regression.predict(X_new_poly)\n",
    "plt.plot(X_new, y_new, \"r-\", linewidth=2, label=\" New Predictions\")\n",
    "plt.plot(X_train, y_train, \"b.\",label='Training dots')\n",
    "plt.plot(X_test, y_test, \"g.\",label='Testing dots')\n",
    "plt.xlabel(\"X\")\n",
    "plt.ylabel(\"y\")\n",
    "plt.legend()\n",
    "plt.show()"
   ]
  },
  {
   "cell_type": "markdown",
   "id": "764e8216",
   "metadata": {},
   "source": [
    "## Pipeline Basic"
   ]
  },
  {
   "cell_type": "code",
   "execution_count": 26,
   "id": "8b720e86",
   "metadata": {},
   "outputs": [],
   "source": [
    "from sklearn.pipeline import Pipeline\n",
    "def poly_regression(degree):\n",
    "    X_new = np.linspace(-3, 3, 200).reshape(200, 1)\n",
    "    \n",
    "    poly_features=PolynomialFeatures(degree=degree,include_bias=True)\n",
    "    lin_reg=LinearRegression()\n",
    "    poly_regression=Pipeline([\n",
    "        (\"poly_features\",poly_features),\n",
    "        (\"lin_reg\",lin_reg)\n",
    "    ])\n",
    "    poly_regression.fit(X_train,y_train) ## ploynomial and fit of linear reression\n",
    "    y_pred_new=poly_regression.predict(X_new)\n",
    "    #plotting prediction line\n",
    "    plt.plot(X_new, y_pred_new,'r', label=\"Degree \" + str(degree), linewidth=2)\n",
    "    plt.plot(X_train, y_train, \"b.\", linewidth=3)\n",
    "    plt.plot(X_test, y_test, \"g.\", linewidth=3)\n",
    "    plt.legend(loc=\"upper left\")\n",
    "    plt.xlabel(\"X\")\n",
    "    plt.ylabel(\"y\")\n",
    "    plt.axis([-4,4, 0, 10])\n",
    "    plt.show()"
   ]
  },
  {
   "cell_type": "code",
   "execution_count": 27,
   "id": "bb2c1409",
   "metadata": {},
   "outputs": [
    {
     "data": {
      "image/png": "[encoded data removed]",
      "text/plain": [
       "<Figure size 640x480 with 1 Axes>"
      ]
     },
     "metadata": {},
     "output_type": "display_data"
    }
   ],
   "source": [
    "poly_regression(5)"
   ]
  }
 ],
 "metadata": {
  "kernelspec": {
   "display_name": "Python 3 (ipykernel)",
   "language": "python",
   "name": "python3"
  },
  "language_info": {
   "codemirror_mode": {
    "name": "ipython",
    "version": 3
   },
   "file_extension": ".py",
   "mimetype": "text/x-python",
   "name": "python",
   "nbconvert_exporter": "python",
   "pygments_lexer": "ipython3",
   "version": "3.11.3"
  }
 },
 "nbformat": 4,
 "nbformat_minor": 5
}
